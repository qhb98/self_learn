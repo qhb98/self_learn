{
 "cells": [
  {
   "cell_type": "code",
   "execution_count": null,
   "metadata": {
    "collapsed": true
   },
   "outputs": [],
   "source": [
    "# django 入门教学视频链接: https://www.bilibili.com/video/BV1NL41157ph?p=2&spm_id_from=pageDriver&vd_source=7111d4cfa9354342c253c06ecdd64e2f\n",
    "\n",
    "\n",
    "\n"
   ]
  },
  {
   "cell_type": "code",
   "source": [
    "# 1. 在服务器中创建虚拟环境, 并激活  https://blog.csdn.net/weixin_39025679/article/details/107830222\n",
    "# 2. 安装django包, pip3 install django 安装django\n",
    "# 3. linux创建部署项目 https://blog.csdn.net/hlx20080808/article/details/121467675\n",
    "# 4. pycharm 创建和部署项目\n"
   ],
   "metadata": {
    "collapsed": false,
    "pycharm": {
     "name": "#%%\n"
    }
   },
   "execution_count": null,
   "outputs": []
  },
  {
   "cell_type": "markdown",
   "source": [
    "django 项目样例 template_djproject1 的结构及说明\n",
    "\n",
    "|-- apptest  APP管理\n",
    "|   |-- admin.py  默认的admin后台管理文件\n",
    "|   |-- apps.py  app启动类文件\n",
    "|   |-- __init__.py\n",
    "|   |-- migrations  保存数据库变更的记录\n",
    "|   |   |-- __init__.py\n",
    "|   |   `-- __pycache__  该文件夹均为加密文件夹\n",
    "|   |       `-- __init__.cpython-36.pyc\n",
    "|   |-- templates  html静态文件保存\n",
    "|   |-- models.py  定义数据库\n",
    "|   |-- __pycache__ 加密文件\n",
    "|   |   |-- admin.cpython-36.pyc\n",
    "|   |   |-- apps.cpython-36.pyc\n",
    "|   |   |-- __init__.cpython-36.pyc\n",
    "|   |   |-- models.cpython-36.pyc\n",
    "|   |   `-- views.cpython-36.pyc\n",
    "|   |-- tests.py  本地功能测试用\n",
    "|   `-- views.py  函数定义\n",
    "|-- db.sqlite3  数据库\n",
    "|-- manage.py  项目的管理文件 启动项目 创建app 数据管理等\n",
    "`-- template_djproject1  模板文件夹\n",
    "    |-- asgi.py  接收网络请求\n",
    "    |-- __init__.py\n",
    "    |-- __pycache__  加密文件\n",
    "    |   |-- __init__.cpython-36.pyc\n",
    "    |   |-- settings.cpython-36.pyc\n",
    "    |   |-- urls.cpython-36.pyc\n",
    "    |   `-- wsgi.cpython-36.pyc\n",
    "    |-- settings.py  项目配置\n",
    "    |-- urls.py  url和函数的对应关系\n",
    "    `-- wsgi.py  接收网络请求"
   ],
   "metadata": {
    "collapsed": false
   }
  },
  {
   "cell_type": "markdown",
   "source": [
    "\n",
    "\n",
    "\n",
    "\n",
    "\n"
   ],
   "metadata": {
    "collapsed": false
   }
  }
 ],
 "metadata": {
  "kernelspec": {
   "display_name": "Python 3",
   "language": "python",
   "name": "python3"
  },
  "language_info": {
   "codemirror_mode": {
    "name": "ipython",
    "version": 2
   },
   "file_extension": ".py",
   "mimetype": "text/x-python",
   "name": "python",
   "nbconvert_exporter": "python",
   "pygments_lexer": "ipython2",
   "version": "2.7.6"
  }
 },
 "nbformat": 4,
 "nbformat_minor": 0
}