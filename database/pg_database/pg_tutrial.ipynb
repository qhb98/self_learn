{
 "cells": [
  {
   "cell_type": "code",
   "execution_count": null,
   "metadata": {
    "collapsed": true
   },
   "outputs": [],
   "source": [
    "# postgresql 数据库 相关资料\n",
    "# 官网: https://www.postgresql.org/download/linux/redhat/\n",
    "# B站入门视频链接: https://www.bilibili.com/video/BV1av411r7yB?spm_id_from=333.337.search-card.all.click&vd_source=7111d4cfa9354342c253c06ecdd64e2f\n",
    "\n",
    "# pg数据库安装链接: http://soft.dog/2017/08/22/install-postgresql/\n",
    "#"
   ]
  },
  {
   "cell_type": "markdown",
   "source": [
    "## 一、数据库知识基础\n",
    "### 1.1 what is database\n",
    "    DB是一个长期存储在计算机内的, 有组织的, 有共享的, 统一管理的数据集合.\n",
    "\n",
    "### 1.2 数据库表\n",
    "    是一系列二维数组的集合, 横向的行(记录, 行), 纵向的列(字段, 属性, 列)\n",
    "\n",
    "![数据库表结构示意图](/database/pg_database/figure/数据库表结构示意图.png)\n",
    "\n",
    "### 1.3 常用的数据类型\n",
    "    整数数据类型 integer\n",
    "    浮点数数据类型 float\n",
    "    日期/时间数据类型 date\n",
    "    字符串数据类型 varchar\n",
    "    二进制数据类型 numeric\n",
    "\n",
    "### 1.4 数据库系统组成\n",
    "    数据库\n",
    "    数据库管理系统\n",
    "    数据库应用程序\n",
    "\n",
    "![数据库系统三个组成部分之间的关系示意图](/database/pg_database/figure/数据库系统三个组成部分之间的关系示意图.png)\n",
    "\n",
    "### 1.5 SQL语言\n",
    "    SQL是对数据库进行查询和修改操作的语言\n",
    "    SQL语言包含四个部分:\n",
    "        DDL 数据库定义语言 drop create alter等\n",
    "        DML 数据库操作语言 insert update delete等\n",
    "        DQL 数据库查询语言 select等\n",
    "        DCL 数据库控制语言 grant revoke commit rollback等\n",
    "\n",
    "### 1.6 常用的数据库访问技术\n",
    "    ODBC open database connectivity 开放数据库连接\n",
    "    JDBC java database connectivity java数据库连接\n",
    "    ADO.NET .NET框架中用于与数据库交互的类库\n",
    "    PDO PHP语言访问数据库技术\n"
   ],
   "metadata": {
    "collapsed": false
   }
  },
  {
   "cell_type": "markdown",
   "source": [
    "## 二、postgresql数据库介绍\n",
    "\n",
    "### 2.1 发展历程\n",
    "\n",
    "![pg数据库发展历程示意图](/database/pg_database/figure/pg数据库发展历程.png)\n",
    "\n",
    "### 2.2 特点\n",
    "    免费\n",
    "    速度快\n",
    "    平台可移植性\n",
    "    丰富的接口\n",
    "    面向对象特性\n",
    "    安全性\n",
    "    配合的开源软件很多\n",
    "\n"
   ],
   "metadata": {
    "collapsed": false
   }
  },
  {
   "cell_type": "markdown",
   "source": [
    "## 三、PG数据库环境搭建\n",
    "\n",
    "    pg数据库下载安装地址: https://www.postgresql.org/download/linux/redhat/\n",
    "    postgis插件下载安装地址:\n",
    "    安装卸载教程:\n",
    "        https://blog.51cto.com/u_12902538/3727034\n",
    "        https://support.huawei.com/enterprise/zh/doc/EDOC1100195172/16cd0da1\n",
    "    pg数据库修改端口号等信息: https://paper.404sec.com/centos-postgres.html\n"
   ],
   "metadata": {
    "collapsed": false
   }
  },
  {
   "cell_type": "markdown",
   "source": [
    "## 四、pgAdmin 客户端工具\n",
    "\n",
    "### 4.1 pgAdmin客户端工具\n",
    "    使用pgAdmin工具远程连接PG数据库需要注意:\n",
    "        关闭服务器端机器防火墙\n",
    "        修改服务器端连接监听(postgresql.conf配置文件)\n",
    "        修改连接认证方式(pg_hba.conf配置文件)\n",
    "\n",
    "### 4.2 使用客户端工具操作数据库\n",
    "\n",
    "### 4.3 使用SQL语句操作数据库对象"
   ],
   "metadata": {
    "collapsed": false,
    "pycharm": {
     "name": "#%% md\n"
    }
   }
  },
  {
   "cell_type": "markdown",
   "source": [
    "## 五、postgresql数据库\n",
    "### 5.1 数据类型\n",
    "    数值类型\n",
    "        SMALLINT 小范围整数 -32768 ~ 32767\n",
    "        INT (INTEGER) 普通大小整数 -2147483648 ~ 2147483647\n",
    "        REAL 6位十进制数字精度\n",
    "        NUMERIC(m, n) 任意精度类型\n",
    "\n",
    "    日期与时间类型\n",
    "        TIME 只用于一日内时间  8字节\n",
    "        DATE 只用于日期 4字节\n",
    "        TIMESTAMP 日期和时间  8字节\n",
    "\n",
    "    字符串类型\n",
    "        CHAR 固定长度字符串\n",
    "        VARCHAR 变长字符串, 有长度限制\n",
    "        TEXT 变长字符串, 无长度限制\n",
    "\n",
    "### 5.2 运算符\n",
    "    算数运算符  + - * / %\n",
    "    比较运算符 = <> <= >=\n",
    "    逻辑运算符 or and not\n",
    "\n",
    "\n",
    "### 5.3 常用函数\n",
    "    AVG()  COUNT()  MAX()  MIN()  SUM()\n",
    "\n",
    "### 5.4 自定义函数\n",
    "\n",
    "![PG数据库自定义函数示意图](/database/pg_database/figure/PG数据库自定义函数.png)\n",
    "\n",
    "\n",
    "### 5.5 数据库索引\n",
    "\n",
    "#### 5.5.1 索引的作用\n",
    "\n",
    "    相当于目录, 方便查找, 提高数据检索效率\n",
    "\n",
    "#### 5.5.2 索引的分类\n",
    "\n",
    "![索引分类示意图](/database/pg_database/figure/索引分类.png)\n",
    "\n",
    "#### 5.5.3 索引的创建和删除\n",
    "\n",
    "\n",
    "\n",
    "#### 5.5.4 索引的优点和缺点\n",
    "    优点\n",
    "        提高数据的查询速度\n",
    "        加速表与表之间的连接\n",
    "    缺点\n",
    "        创建和维护索引需要耗费时间\n",
    "        需要占用磁盘空间\n",
    "\n",
    "### 5.6 视图\n",
    "    含义 创建 删除 作用\n",
    "\n",
    "### 5.7\n",
    "    待补充\n",
    "\n",
    "\n",
    "\n",
    "\n",
    "\n",
    "\n",
    "\n",
    "\n",
    "\n",
    "\n",
    "\n",
    "\n",
    "\n",
    "\n",
    "\n"
   ],
   "metadata": {
    "collapsed": false,
    "pycharm": {
     "name": "#%% md\n"
    }
   }
  }
 ],
 "metadata": {
  "kernelspec": {
   "display_name": "Python 3",
   "language": "python",
   "name": "python3"
  },
  "language_info": {
   "codemirror_mode": {
    "name": "ipython",
    "version": 2
   },
   "file_extension": ".py",
   "mimetype": "text/x-python",
   "name": "python",
   "nbconvert_exporter": "python",
   "pygments_lexer": "ipython2",
   "version": "2.7.6"
  }
 },
 "nbformat": 4,
 "nbformat_minor": 0
}