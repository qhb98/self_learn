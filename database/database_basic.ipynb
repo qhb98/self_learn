{
 "cells": [
  {
   "cell_type": "code",
   "execution_count": null,
   "metadata": {
    "collapsed": true,
    "pycharm": {
     "name": "#%%\n"
    }
   },
   "outputs": [],
   "source": [
    "# 相关参考链接, 视频, 文档等\n",
    "# https://www.bilibili.com/video/BV1zi4y1Q7dh?spm_id_from=333.999.0.0&vd_source=7111d4cfa9354342c253c06ecdd64e2f\n",
    "#"
   ]
  },
  {
   "cell_type": "markdown",
   "source": [
    "## 数据库基础\n",
    "### 一、数据库及数据库管理系统\n",
    "#### 1.1 DB/DBMS\n",
    "    DB 定义: 对现实世界的某些方面进行建模的相互关联的数据的有组织的集合.\n",
    "    Organized collection of inter-related data that models some aspect of the real-world.\n",
    "\n",
    "    DBMS 定义: 数据库管理系统, 是一个软件系统, 允许应用在数据库中存储和分析信息.\n",
    "    --> 定义、创建、查询、更新、管理数据库\n",
    "\n",
    "#### 1.2 历史发展\n",
    "    1980~1990 商业关系型数据库\n",
    "\n",
    "    略"
   ],
   "metadata": {
    "collapsed": false
   }
  },
  {
   "cell_type": "code",
   "execution_count": null,
   "outputs": [],
   "source": [],
   "metadata": {
    "collapsed": false,
    "pycharm": {
     "name": "#%%\n"
    }
   }
  },
  {
   "cell_type": "markdown",
   "source": [
    "### 二、关系型模型和关系型数据库\n",
    "#### 2.1 关系型模型\n",
    "    三大特点：\n",
    "        1. 以简单的数据结构(关系)存储数据库\n",
    "        2. 通过高级语言访问数据\n",
    "        3. 物理存储留给实施, 对上层应用透明\n",
    "\n",
    "#### 2.2 数据模型\n",
    "    数据模型(data model)是用于描述数据库中数据的概念的集合\n",
    "    模式(schema)是使用给定数据模型对特定数据集合的描述\n",
    "    relational 关系型\n",
    "    key/value 键值\n",
    "    graph 图\n",
    "    document 文本\n",
    "    column-family 列式\n",
    "    array/matrix 数组矩阵\n",
    "\n",
    "#### 2.3 关系模型\n",
    "    结构 structure : 关系及其内容的定义\n",
    "    完整性 integrity : 确保数据库的内容满足约束条件\n",
    "    操作 manipulation : 如何访问和修改数据\n",
    "\n",
    "    关系: 关系是一个无序集合, 包含表示实体的属性的关系. 笛卡尔积的有限子集. --> 一个表及表中的数据\n",
    "    元组: 元组是关系中的一组属性值(或称为域). 笛卡尔积的每个元素称为一个n-元组, Tuple. --> 表中的一行及其数据\n",
    "\n",
    "    关系模型独立于任何查询语言实现\n",
    "    关系模型\n",
    "\n",
    "#### 2.4 关键 primary key\n",
    "    若关系中的某一属性组的值能够唯一地标识一个元组, 则称该属性为关系的主键.\n",
    "\n",
    "#### 2.5 外键 foreign keys\n",
    "    外键指定一个关系中的属性必须映射到另一个关系中的元组.\n",
    "\n",
    "\n",
    "#### 2.6 DML数据操纵语言\n",
    "    DML是用于数据库操作, 对数据库其中的对象和数据运行访问工作的编程语句.\n",
    "    1 程序性\n",
    "        查询指定DBMS应使用的高级策略来查找所需的结果\n",
    "    2 非程序性\n",
    "        仅指定需要什么数据, 而不指定如何找到它\n",
    "\n",
    "#### 2.7 关系代数\n",
    "    检索和操作关系中的元组的基本操作\n",
    "    每个操作将一个或多个关系作为其输入并输出一个新关系\n",
    "    union, intersection, difference, join\n"
   ],
   "metadata": {
    "collapsed": false
   }
  },
  {
   "cell_type": "markdown",
   "source": [
    "### 三、数据库存储\n",
    "#### 3.1 面向磁盘的存储逻辑\n",
    "    DBMS假定主存储数据库的位置在非易失性磁盘上\n",
    "    DBMS的组件管理非易失性和易失性存储之间的数据交换\n",
    "\n",
    "#### 3.2 存储层级\n",
    "    CPU寄存器    -->  CPU\n",
    "    CPU缓存\n",
    "    DRAM        -->  内存\n",
    "    SSD\n",
    "    HDD         -->  磁盘\n",
    "    网络存储\n",
    "\n",
    "#### 3.3 访问时间\n",
    "    0.5 ns L1 Cache Ref   易失性\n",
    "    7 ns L2 Cache Ref\n",
    "    100 ns DRAM           非易失性\n",
    "    150000 ns SSD\n",
    "    10000000 ns HDD\n",
    "    30000000 ns network storage\n",
    "\n",
    "#### 3.4 为什么顺序读写比随机读写快\n",
    "    1. 寻道时间\n",
    "    2. 旋转延迟\n",
    "    3. 传送时间\n",
    "\n",
    "#### 3.5 数据库VS操作系统\n",
    "    实现虚拟内存的一种方式是使用mmap去映射一个文件的内容到一个内存地址空间,\n",
    "    操作系统负责从硬盘和内存之间的移动页.\n",
    "    但如果mmap遇到页错误, 进程将被阻塞.\n",
    "\n",
    "#### 3.6 文件存储\n",
    "    在最基本的形式中, 数据库将数据存成文件.\n",
    "\n",
    "#### 3.7 数据库存储管理器\n",
    "    1 存储管理器负责维护数据库的文件\n",
    "        改善pages的空间和时间局部性\n",
    "    2 将文件组织为一组pages\n",
    "        跟踪读取/写入pages的数据\n",
    "        跟踪可用空间\n",
    "    3 page就是固定大小的数据块 block\n",
    "        元组 元数据 索引日志记录\n",
    "    4 每个页面都有一个唯一的标识符\n",
    "    5 DBMS使用中间层将page id映射到物理位置\n",
    "\n",
    "#### 3.8 数据库的页\n",
    "    数据库使用固定长度的页, 而不是可变长度的页 -->  开销\n",
    "        硬件的页4kb  操作系统的页4kb  数据库的页 1-16kb\n",
    "\n",
    "    故障安全写入的级别 :\n",
    "\n",
    "#### 3.9 页的存储结构\n",
    "    DBMS 以不同的方式管理磁盘文件中的页面\n",
    "        顺序文件组织\n",
    "        堆文件组织\n",
    "        哈希文件组织\n",
    "\n",
    "\n",
    "\n",
    "\n",
    "\n",
    "da\n",
    "\n",
    "\n",
    "\n",
    "\n",
    "\n"
   ],
   "metadata": {
    "collapsed": false
   }
  },
  {
   "cell_type": "markdown",
   "source": [
    "\n",
    "\n",
    "\n",
    "\n",
    "\n",
    "\n",
    "\n",
    "\n",
    "\n",
    "\n",
    "\n",
    "\n",
    "\n",
    "\n",
    "\n",
    "### 参考文献\n",
    "<< A relational model of data for large shared data banks >>"
   ],
   "metadata": {
    "collapsed": false
   }
  }
 ],
 "metadata": {
  "kernelspec": {
   "display_name": "Python 3",
   "language": "python",
   "name": "python3"
  },
  "language_info": {
   "codemirror_mode": {
    "name": "ipython",
    "version": 2
   },
   "file_extension": ".py",
   "mimetype": "text/x-python",
   "name": "python",
   "nbconvert_exporter": "python",
   "pygments_lexer": "ipython2",
   "version": "2.7.6"
  }
 },
 "nbformat": 4,
 "nbformat_minor": 0
}